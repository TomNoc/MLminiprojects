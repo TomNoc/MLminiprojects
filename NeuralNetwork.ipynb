{
 "cells": [
  {
   "cell_type": "markdown",
   "metadata": {},
   "source": [
    "This project is to get aquainted with the tensorflow package. I will construct a neural network to identify handwritten numbers from the MNIST dataset. We begin by preparing the data as an array of values between $0$ and $1$ indicating the darkness of each pixel in the image."
   ]
  },
  {
   "cell_type": "code",
   "execution_count": 18,
   "metadata": {},
   "outputs": [],
   "source": [
    "import numpy as np\n",
    "import tensorflow as tf\n",
    "from tensorflow.keras.datasets import mnist\n",
    "\n",
    "#Prepare the data into 1D arrays with values between 0 and 1.\n",
    "num_class = 10\n",
    "num_features = 784\n",
    "(x_train, y_train), (x_test, y_test) = mnist.load_data()\n",
    "x_train, x_test = np.array(x_train, np.float32), np.array(x_test, np.float32)\n",
    "x_train, x_test = x_train.reshape([-1, num_features]), x_test.reshape([-1, num_features])\n",
    "x_train, x_test = x_train / 255., x_test / 255.\n"
   ]
  },
  {
   "cell_type": "markdown",
   "metadata": {},
   "source": [
    "We will define a function that will plot the inputted sample with Matplotlib."
   ]
  },
  {
   "cell_type": "code",
   "execution_count": 19,
   "metadata": {},
   "outputs": [
    {
     "data": {
      "image/png": "[encoded data removed]",
      "text/plain": [
       "<Figure size 640x480 with 1 Axes>"
      ]
     },
     "metadata": {},
     "output_type": "display_data"
    }
   ],
   "source": [
    "%matplotlib inline\n",
    "\n",
    "import matplotlib.pyplot as plt\n",
    "\n",
    "def displaySample(id):\n",
    "    label = y_train[id]\n",
    "\n",
    "    img = x_train[id].reshape([28,28])\n",
    "    plt.title('Sample: '+ str(id) +', Label: ' + str(label))\n",
    "    plt.imshow(img,cmap='gray_r')\n",
    "    plt.show()\n",
    "\n",
    "displaySample(55)\n"
   ]
  },
  {
   "cell_type": "markdown",
   "metadata": {},
   "source": [
    "Define the training parameters and number of neurons. I have found that around $50$ to $100$ neurons provide the best results more than this results in an overfitting and lowers our accuracy. We also shuffle and batch the data for training."
   ]
  },
  {
   "cell_type": "code",
   "execution_count": 51,
   "metadata": {},
   "outputs": [],
   "source": [
    "# Training parameters.\n",
    "learning_rate = 0.001\n",
    "training_steps = 5000\n",
    "batch_size = 250\n",
    "display_step = 250\n",
    "\n",
    "# Network parameters.\n",
    "n_hidden = 50 #Number of neurons.\n",
    "\n",
    "# Use tf.data API to shuffle and batch data.\n",
    "train_data = tf.data.Dataset.from_tensor_slices((x_train, y_train))\n",
    "train_data = train_data.repeat().shuffle(60000).batch(batch_size).prefetch(1)"
   ]
  },
  {
   "cell_type": "markdown",
   "metadata": {},
   "source": [
    "Here we define our weights and biases for each layer in the network."
   ]
  },
  {
   "cell_type": "code",
   "execution_count": 52,
   "metadata": {},
   "outputs": [],
   "source": [
    "# Store layers weight & bias\n",
    "\n",
    "# A random value generator to initialize weights initially\n",
    "random_normal = tf.initializers.RandomNormal()\n",
    "\n",
    "weights = {\n",
    "    'h': tf.Variable(random_normal([num_features, n_hidden])),\n",
    "    'out': tf.Variable(random_normal([n_hidden, num_class]))\n",
    "}\n",
    "biases = {\n",
    "    'b': tf.Variable(tf.zeros([n_hidden])),\n",
    "    'out': tf.Variable(tf.zeros([num_class]))\n",
    "}"
   ]
  },
  {
   "cell_type": "markdown",
   "metadata": {},
   "source": [
    "We create the model with our weights and biases adding an activation function to the hidden layer. Since we are classifying the image we use a softmax to determine which classification the model has chosen."
   ]
  },
  {
   "cell_type": "code",
   "execution_count": 59,
   "metadata": {},
   "outputs": [],
   "source": [
    "# Create model.\n",
    "def neural_net(inputData):\n",
    "    # Hidden fully connected layer with 50 neurons.\n",
    "    hidden_layer = tf.add(tf.matmul(inputData, weights['h']), biases['b'])\n",
    "    # Apply sigmoid to hidden_layer output for non-linearity.\n",
    "    hidden_layer = tf.nn.sigmoid(hidden_layer)\n",
    "    \n",
    "    # Output fully connected layer with a neuron for each class.\n",
    "    out_layer = tf.matmul(hidden_layer, weights['out']) + biases['out']\n",
    "    # Apply softmax to normalize the logits to a probability distribution.\n",
    "    return tf.nn.softmax(out_layer)"
   ]
  },
  {
   "cell_type": "markdown",
   "metadata": {},
   "source": [
    "Calculate the cross entropy to determine the performance of the weights."
   ]
  },
  {
   "cell_type": "code",
   "execution_count": 54,
   "metadata": {},
   "outputs": [],
   "source": [
    "def cross_entropy(y_pred, y_true):\n",
    "    # Encode label to a one hot vector.\n",
    "    y_true = tf.one_hot(y_true, depth=num_class)\n",
    "    # Clip prediction values to avoid log(0) error.\n",
    "    y_pred = tf.clip_by_value(y_pred, 1e-9, 1.)\n",
    "    # Compute cross-entropy.\n",
    "    return tf.reduce_mean(-tf.reduce_sum(y_true * tf.math.log(y_pred)))"
   ]
  },
  {
   "cell_type": "markdown",
   "metadata": {},
   "source": [
    "Perform gradient descent to find better weights and biases. "
   ]
  },
  {
   "cell_type": "code",
   "execution_count": 55,
   "metadata": {},
   "outputs": [],
   "source": [
    "optimizer = tf.keras.optimizers.SGD(learning_rate)\n",
    "\n",
    "def run_optimization(x, y):\n",
    "    # Wrap computation inside a GradientTape for automatic differentiation.\n",
    "    with tf.GradientTape() as g:\n",
    "        pred = neural_net(x)\n",
    "        loss = cross_entropy(pred, y)\n",
    "        \n",
    "    # Variables to update, i.e. trainable variables.\n",
    "    trainable_variables = list(weights.values()) + list(biases.values())\n",
    "\n",
    "    # Compute gradients.\n",
    "    gradients = g.gradient(loss, trainable_variables)\n",
    "    \n",
    "    # Update W and b following gradients.\n",
    "    optimizer.apply_gradients(zip(gradients, trainable_variables))"
   ]
  },
  {
   "cell_type": "code",
   "execution_count": 56,
   "metadata": {},
   "outputs": [],
   "source": [
    "# Accuracy metric.\n",
    "def accuracy(y_pred, y_true):\n",
    "    # Predicted class is the index of highest score in prediction vector (i.e. argmax).\n",
    "    correct_prediction = tf.equal(tf.argmax(y_pred, 1), tf.cast(y_true, tf.int64))\n",
    "    return tf.reduce_mean(tf.cast(correct_prediction, tf.float32), axis=-1)"
   ]
  },
  {
   "cell_type": "markdown",
   "metadata": {},
   "source": [
    "We now run the neural network, viewing the accuracy every 250 epochs."
   ]
  },
  {
   "cell_type": "code",
   "execution_count": 60,
   "metadata": {},
   "outputs": [
    {
     "name": "stdout",
     "output_type": "stream",
     "text": [
      "Training epoch: 250, Loss: 40.099773, Accuracy: 0.944000\n",
      "Training epoch: 500, Loss: 36.038246, Accuracy: 0.956000\n",
      "Training epoch: 750, Loss: 28.773365, Accuracy: 0.976000\n",
      "Training epoch: 1000, Loss: 38.109707, Accuracy: 0.952000\n",
      "Training epoch: 1250, Loss: 51.311737, Accuracy: 0.940000\n",
      "Training epoch: 1500, Loss: 31.361286, Accuracy: 0.944000\n",
      "Training epoch: 1750, Loss: 33.010628, Accuracy: 0.952000\n",
      "Training epoch: 2000, Loss: 34.820015, Accuracy: 0.960000\n",
      "Training epoch: 2250, Loss: 27.299614, Accuracy: 0.968000\n",
      "Training epoch: 2500, Loss: 29.685347, Accuracy: 0.968000\n",
      "Training epoch: 2750, Loss: 34.171379, Accuracy: 0.960000\n",
      "Training epoch: 3000, Loss: 38.150116, Accuracy: 0.960000\n",
      "Training epoch: 3250, Loss: 34.499905, Accuracy: 0.976000\n",
      "Training epoch: 3500, Loss: 21.355600, Accuracy: 0.980000\n",
      "Training epoch: 3750, Loss: 25.926882, Accuracy: 0.972000\n",
      "Training epoch: 4000, Loss: 27.292606, Accuracy: 0.968000\n",
      "Training epoch: 4250, Loss: 24.740082, Accuracy: 0.972000\n",
      "Training epoch: 4500, Loss: 21.690437, Accuracy: 0.968000\n",
      "Training epoch: 4750, Loss: 24.506350, Accuracy: 0.972000\n",
      "Training epoch: 5000, Loss: 19.425833, Accuracy: 0.988000\n"
     ]
    }
   ],
   "source": [
    "# Run training for the given number of steps.\n",
    "for step, (batch_x, batch_y) in enumerate(train_data.take(training_steps), 1):\n",
    "    # Run the optimization to update W and b values.\n",
    "    run_optimization(batch_x, batch_y)\n",
    "    \n",
    "    if step % display_step == 0:\n",
    "        pred = neural_net(batch_x)\n",
    "        loss = cross_entropy(pred, batch_y)\n",
    "        acc = accuracy(pred, batch_y)\n",
    "        print(\"Training epoch: %i, Loss: %f, Accuracy: %f\" % (step, loss, acc))"
   ]
  },
  {
   "cell_type": "markdown",
   "metadata": {},
   "source": [
    "Let's look at the accuracy on the test data to see its performance on data it has not seen before."
   ]
  },
  {
   "cell_type": "code",
   "execution_count": 61,
   "metadata": {},
   "outputs": [
    {
     "name": "stdout",
     "output_type": "stream",
     "text": [
      "Test Accuracy: 0.964800\n"
     ]
    }
   ],
   "source": [
    "# Test model on validation set.\n",
    "pred = neural_net(x_test)\n",
    "print(\"Test Accuracy: %f\" % accuracy(pred, y_test))"
   ]
  },
  {
   "cell_type": "markdown",
   "metadata": {},
   "source": [
    "A $96\\%$ accuracy is not bad! We may come back to this with convolution neural networks to see how they compare."
   ]
  }
 ],
 "metadata": {
  "kernelspec": {
   "display_name": "Python 3",
   "language": "python",
   "name": "python3"
  },
  "language_info": {
   "codemirror_mode": {
    "name": "ipython",
    "version": 3
   },
   "file_extension": ".py",
   "mimetype": "text/x-python",
   "name": "python",
   "nbconvert_exporter": "python",
   "pygments_lexer": "ipython3",
   "version": "3.10.11"
  }
 },
 "nbformat": 4,
 "nbformat_minor": 2
}
